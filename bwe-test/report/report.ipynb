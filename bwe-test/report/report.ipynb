{
 "cells": [
  {
   "cell_type": "code",
   "execution_count": 83,
   "metadata": {},
   "outputs": [],
   "source": [
    "experiments = [\n",
    "    \"TestVnetRunnerABR/VariableAvailableCapacitySingleFlow\",\n",
    "    \"TestVnetRunnerSimulcast/VariableAvailableCapacitySingleFlow\",\n",
    "    \"TestVnetRunnerSimulcast/VariableAvailableCapacity3SimulcastTracks\",\n",
    "]\n",
    "\n",
    "base_path = \"../data\"\n",
    "config_path = \"../vnet/config.yaml\""
   ]
  },
  {
   "cell_type": "code",
   "execution_count": 84,
   "metadata": {},
   "outputs": [],
   "source": [
    "%run helpers.py"
   ]
  },
  {
   "cell_type": "code",
   "execution_count": null,
   "metadata": {},
   "outputs": [],
   "source": [
    "# Load the experiment data (hardcoded to flow 0)\n",
    "experiment_data = load_experiments_data(experiments, base_path)\n",
    "\n",
    "config = load_config(config_path)\n",
    "# Load test cases from the configuration as a dictionary\n",
    "test_cases = config_to_test_cases(config)\n",
    "\n",
    "# Extract path characteristics for each experiment\n",
    "path_characteristics_map = {}\n",
    "for experiment in experiments:\n",
    "    if experiment not in test_cases:\n",
    "        print(f\"Warning: No test case found for experiment {experiment}. Skipping path characteristics extraction.\")\n",
    "        continue\n",
    "    test_case = test_cases[experiment]\n",
    "    path_characteristics_map[experiment] = extract_path_characteristics(test_case, config)\n",
    "\n",
    "# Compute bitrates, lost packets, and jitter\n",
    "compute_bitrates(experiment_data)\n",
    "compute_lost_packets(experiment_data)\n",
    "compute_interarrival_jitter(experiment_data)\n",
    "compute_one_way_delay(experiment_data)\n",
    "\n",
    "# Create quality timeline\n",
    "create_quality_timeline(experiment_data, config, test_cases)\n",
    "\n",
    "# Plot the experiment results (including quality timeline)\n",
    "plot_experiment_results(config, experiment_data, path_characteristics_map, test_cases)"
   ]
  },
  {
   "cell_type": "markdown",
   "metadata": {},
   "source": []
  },
  {
   "cell_type": "code",
   "execution_count": null,
   "metadata": {},
   "outputs": [],
   "source": []
  }
 ],
 "metadata": {
  "kernelspec": {
   "display_name": "bwe-research-_RsJzSfu-py3.13",
   "language": "python",
   "name": "python3"
  },
  "language_info": {
   "codemirror_mode": {
    "name": "ipython",
    "version": 3
   },
   "file_extension": ".py",
   "mimetype": "text/x-python",
   "name": "python",
   "nbconvert_exporter": "python",
   "pygments_lexer": "ipython3",
   "version": "3.13.3"
  }
 },
 "nbformat": 4,
 "nbformat_minor": 4
}
