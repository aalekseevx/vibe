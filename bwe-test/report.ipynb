{
 "cells": [
  {
   "cell_type": "code",
   "id": "initial_id",
   "metadata": {
    "collapsed": true,
    "ExecuteTime": {
     "end_time": "2025-05-06T18:41:15.302654Z",
     "start_time": "2025-05-06T18:41:15.299294Z"
    }
   },
   "source": [
    "import pandas as pd\n",
    "import yaml\n",
    "import numpy as np\n",
    "from matplotlib import pyplot as plt\n",
    "from pathlib import Path\n",
    "from datetime import datetime, timedelta\n",
    "\n",
    "# Hardcoded experiments (without path prefix)\n",
    "experiments = [\n",
    "    \"TestVnetRunnerABR/VariableAvailableCapacitySingleFlow\",\n",
    "]\n",
    "\n",
    "# Base path for experiment data\n",
    "base_path = \"vnet/data\"\n",
    "\n",
    "# Hardcoded config path\n",
    "config_path = \"bwe-test/vnet/config.yaml\""
   ],
   "outputs": [],
   "execution_count": 1
  },
  {
   "metadata": {
    "ExecuteTime": {
     "end_time": "2025-05-06T18:41:15.382690Z",
     "start_time": "2025-05-06T18:41:15.376069Z"
    }
   },
   "cell_type": "code",
   "source": [
    "def load_config(config_path):\n",
    "    \"\"\"Load the configuration file and return test cases as a dictionary.\"\"\"\n",
    "    with open(config_path, 'r') as f:\n",
    "        config = yaml.safe_load(f)\n",
    "    \n",
    "    # Convert test cases to a dictionary with name as key\n",
    "    test_cases = {}\n",
    "    for test_case in config.get('test_cases', []):\n",
    "        if 'name' in test_case:\n",
    "            test_cases[test_case['name']] = test_case\n",
    "    \n",
    "    return test_cases"
   ],
   "id": "config_loader",
   "outputs": [],
   "execution_count": 2
  },
  {
   "metadata": {
    "ExecuteTime": {
     "end_time": "2025-05-06T18:41:15.382690Z",
     "start_time": "2025-05-06T18:41:15.376069Z"
    }
   },
   "cell_type": "code",
   "source": [
    "def extract_path_characteristics(test_case):\n",
    "    \"\"\"Extract path characteristics from the test case configuration.\"\"\"\n",
    "    path_char = test_case.get('path_characteristic', {})\n",
    "    phases = path_char.get('phases', [])\n",
    "    \n",
    "    if not phases:\n",
    "        return None\n",
    "    \n",
    "    # Convert phases to a time series\n",
    "    time_points = []\n",
    "    capacity_points = []\n",
    "    \n",
    "    current_time = 0\n",
    "    \n",
    "    for phase in phases:\n",
    "        # Extract duration in seconds\n",
    "        duration_str = phase.get('duration', '0s')\n",
    "        if duration_str.endswith('s'):\n",
    "            duration = int(duration_str[:-1])\n",
    "        else:\n",
    "            duration = int(duration_str)\n",
    "        \n",
    "        # Extract capacity in bits per second\n",
    "        capacity = phase.get('capacity', 0)\n",
    "        \n",
    "        # Add start point of this phase\n",
    "        time_points.append(current_time)\n",
    "        capacity_points.append(capacity / 1000)  # Convert to kbps\n",
    "        \n",
    "        # Add end point of this phase\n",
    "        current_time += duration\n",
    "        time_points.append(current_time)\n",
    "        capacity_points.append(capacity / 1000)  # Convert to kbps\n",
    "    \n",
    "    return {\n",
    "        'time': time_points,\n",
    "        'capacity_kbps': capacity_points\n",
    "    }"
   ],
   "id": "path_characteristics_extractor",
   "outputs": [],
   "execution_count": 3
  },
  {
   "metadata": {
    "ExecuteTime": {
     "end_time": "2025-05-06T18:41:15.382690Z",
     "start_time": "2025-05-06T18:41:15.376069Z"
    }
   },
   "cell_type": "code",
   "source": [
    "def load_experiments_data(experiments, base_path):\n",
    "    \"\"\"Load experiment data from log files.\"\"\"\n",
    "    experiment_data = {}\n",
    "\n",
    "    for experiment in experiments:\n",
    "        # Construct full path\n",
    "        exp_path = Path(base_path) / experiment\n",
    "        flows = {}\n",
    "\n",
    "        for log_file in exp_path.glob(\"*.log\"):\n",
    "            parts = log_file.stem.split(\"_\", 1)\n",
    "            if len(parts) != 2:\n",
    "                continue  # skip malformed names\n",
    "            flow_id, log_type = parts\n",
    "            flow_id = int(flow_id)\n",
    "\n",
    "            if flow_id not in flows:\n",
    "                flows[flow_id] = {}\n",
    "            flows[flow_id][log_type] = log_file\n",
    "\n",
    "        # Parse logs per flow\n",
    "        experiment_data[experiment] = {}\n",
    "        for flow_id, logs in flows.items():\n",
    "            flow_data = {}\n",
    "\n",
    "            if \"cc\" in logs:\n",
    "                cc_log = pd.read_csv(logs[\"cc\"], header=None, names=[\"time\", \"target_bitrate\"])\n",
    "                cc_log[\"time\"] = pd.to_datetime(cc_log[\"time\"], unit=\"ms\")\n",
    "                flow_data[\"cc_log\"] = cc_log\n",
    "\n",
    "            for side in [\"sender\", \"receiver\"]:\n",
    "                for kind in [\"rtp\", \"rtcp\"]:\n",
    "                    key = f\"{side}_{kind}\"\n",
    "                    if key in logs:\n",
    "                        if kind == \"rtp\":\n",
    "                            df = pd.read_csv(logs[key], header=None, names=[\n",
    "                                \"time\", \"payload_type\", \"ssrc\", \"seq\", \"timestamp\",\n",
    "                                \"marker\", \"size\", \"twcc\", \"unwrapped_seq\"\n",
    "                            ])\n",
    "                            df[\"time\"] = pd.to_datetime(df[\"time\"], unit=\"ms\")\n",
    "                        else:\n",
    "                            df = pd.read_csv(logs[key], header=None, names=[\"time\", \"size\"])\n",
    "                            df[\"time\"] = pd.to_datetime(df[\"time\"], unit=\"ms\")\n",
    "                        flow_data[key] = df\n",
    "\n",
    "            experiment_data[experiment][flow_id] = flow_data\n",
    "\n",
    "    return experiment_data"
   ],
   "id": "2784fbf17a8bbbe2",
   "outputs": [],
   "execution_count": 4
  },
  {
   "metadata": {
    "ExecuteTime": {
     "end_time": "2025-05-06T18:41:15.451633Z",
     "start_time": "2025-05-06T18:41:15.447484Z"
    }
   },
   "cell_type": "code",
   "source": [
    "def compute_bitrates(experiment_data, window_ms=500):\n",
    "    \"\"\"Compute bitrates for all experiments.\"\"\"\n",
    "    for exp_name, flows in experiment_data.items():\n",
    "        for flow_id, data in flows.items():\n",
    "            if \"sender_rtp\" in data:\n",
    "                df = data[\"sender_rtp\"]\n",
    "                df[\"time_bin\"] = df[\"time\"].dt.floor(f\"{window_ms}ms\")\n",
    "                bitrate_df = df.groupby(\"time_bin\")[\"size\"].sum().reset_index()\n",
    "                bitrate_df[\"bitrate_kbps\"] = (bitrate_df[\"size\"] * 8) / (window_ms / 1000) / 1000\n",
    "                data[\"bitrate\"] = bitrate_df"
   ],
   "id": "88e250a7f18c3b6b",
   "outputs": [],
   "execution_count": 5
  },
  {
   "metadata": {
    "ExecuteTime": {
     "end_time": "2025-05-06T18:41:15.524330Z",
     "start_time": "2025-05-06T18:41:15.519257Z"
    }
   },
   "cell_type": "code",
   "source": [
    "def plot_experiment_bitrates(experiment_data, path_characteristics_map):\n",
    "    \"\"\"Plot bitrates and path characteristics for all experiments.\"\"\"\n",
    "    for exp_name, flows in experiment_data.items():\n",
    "        plt.figure(figsize=(12, 6))\n",
    "        plt.title(f\"Bitrate Utilization - {exp_name}\")\n",
    "        plt.xlabel(\"Time\")\n",
    "        plt.ylabel(\"Bitrate (kbps)\")\n",
    "\n",
    "        n_flows = len(flows)\n",
    "        colors = plt.colormaps.get_cmap('tab10').colors\n",
    "\n",
    "        # Plot path characteristics if available for this experiment\n",
    "        path_characteristics = path_characteristics_map.get(exp_name)\n",
    "        if path_characteristics:\n",
    "            # Get the start time from the first flow's data\n",
    "            start_time = None\n",
    "            for flow_id, data in flows.items():\n",
    "                if \"sender_rtp\" in data:\n",
    "                    start_time = data[\"sender_rtp\"][\"time\"].min()\n",
    "                    break\n",
    "            \n",
    "            if start_time is not None:\n",
    "                # Convert seconds to datetime\n",
    "                time_points = [start_time + timedelta(seconds=t) for t in path_characteristics['time']]\n",
    "                plt.plot(time_points, path_characteristics['capacity_kbps'], \n",
    "                         label=\"Path Capacity\", color='black', linestyle='-.', linewidth=2)\n",
    "\n",
    "        for i, (flow_id, data) in enumerate(flows.items()):\n",
    "            color = colors[i % len(colors)]\n",
    "            label = f\"Flow {flow_id}\"\n",
    "\n",
    "            # RTP bitrate\n",
    "            if \"bitrate\" in data:\n",
    "                df = data[\"bitrate\"]\n",
    "                plt.plot(df[\"time_bin\"], df[\"bitrate_kbps\"], label=f\"{label} RTP\",\n",
    "                         color=color, linestyle='-')\n",
    "\n",
    "            # CC target\n",
    "            if \"cc_log\" in data:\n",
    "                cc = data[\"cc_log\"]\n",
    "                plt.plot(cc[\"time\"], cc[\"target_bitrate\"] / 1000, label=f\"{label} Target\",\n",
    "                         color=color, linestyle='--')\n",
    "\n",
    "        plt.legend()\n",
    "        plt.tight_layout()\n",
    "        plt.show()"
   ],
   "id": "d33af1acbab7513e",
   "outputs": [],
   "execution_count": 6
  },
  {
   "metadata": {
    "ExecuteTime": {
     "end_time": "2025-05-06T18:41:15.866085Z",
     "start_time": "2025-05-06T18:41:15.586523Z"
    }
   },
   "cell_type": "code",
   "source": [
    "# Load the experiment data\n",
    "experiment_data = load_experiments_data(experiments, base_path)\n",
    "compute_bitrates(experiment_data)\n",
    "\n",
    "# Load test cases from the configuration as a dictionary\n",
    "test_cases = load_config(config_path)\n",
    "\n",
    "# Extract path characteristics for each experiment\n",
    "path_characteristics_map = {}\n",
    "for experiment in experiments:\n",
    "    # This will raise KeyError if experiment is not in test_cases\n",
    "    test_case = test_cases[experiment]\n",
    "    path_characteristics_map[experiment] = extract_path_characteristics(test_case)\n",
    "\n",
    "# Plot the data with path characteristics\n",
    "plot_experiment_bitrates(experiment_data, path_characteristics_map)"
   ],
   "id": "40d2000b81e3d0c5",
   "outputs": [],
   "execution_count": 7
  }
 ],
 "metadata": {
  "kernelspec": {
   "display_name": "Python 3",
   "language": "python",
   "name": "python3"
  },
  "language_info": {
   "codemirror_mode": {
    "name": "ipython",
    "version": 2
   },
   "file_extension": ".py",
   "mimetype": "text/x-python",
   "name": "python",
   "nbconvert_exporter": "python",
   "pygments_lexer": "ipython2",
   "version": "2.7.6"
  }
 },
 "nbformat": 4,
 "nbformat_minor": 5
}
